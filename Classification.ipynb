{
  "nbformat": 4,
  "nbformat_minor": 0,
  "metadata": {
    "colab": {
      "name": "Classification.ipynb",
      "provenance": [],
      "collapsed_sections": []
    },
    "kernelspec": {
      "name": "python3",
      "display_name": "Python 3"
    }
  },
  "cells": [
    {
      "cell_type": "code",
      "metadata": {
        "id": "bg0fVvCEpEVO"
      },
      "source": [
        "import numpy as np\r\n",
        "import pandas as pd\r\n",
        "import matplotlib.pyplot as plt\r\n"
      ],
      "execution_count": null,
      "outputs": []
    },
    {
      "cell_type": "code",
      "metadata": {
        "id": "GV0eBhx6tZpS"
      },
      "source": [
        "dataset = pd.read_csv('/content/Iris.csv')\r\n",
        "X = dataset.iloc[:, :-1].values\r\n",
        "y = dataset.iloc[:, -1].values\r\n",
        "from sklearn.model_selection import train_test_split\r\n",
        "X_train, X_test, y_train, y_test = train_test_split(X, y, test_size = 0.25, random_state = 0)"
      ],
      "execution_count": null,
      "outputs": []
    },
    {
      "cell_type": "code",
      "metadata": {
        "id": "JknnGunM0-EH"
      },
      "source": [
        "#feature scaling\r\n",
        "#we need features caling beacuase will improve training model\r\n",
        "#in logistic regression model feature scaling is not required but feature scaling will improve the preformance of model\r\n",
        "from sklearn.preprocessing import StandardScaler\r\n",
        "sc = StandardScaler()\r\n",
        "X_train = sc.fit_transform(X_train)\r\n",
        "X_test = sc.transform(X_test)"
      ],
      "execution_count": null,
      "outputs": []
    },
    {
      "cell_type": "code",
      "metadata": {
        "id": "36brSQIx1Bxu"
      },
      "source": [
        "from sklearn.linear_model import LogisticRegression\r\n",
        "classifier = LogisticRegression(random_state = 0)\r\n",
        "classifier.fit(X_train, y_train)\r\n",
        "y_pred = classifier.predict(X_test)"
      ],
      "execution_count": null,
      "outputs": []
    },
    {
      "cell_type": "code",
      "metadata": {
        "id": "SpR89TWR10YO"
      },
      "source": [
        "from sklearn.metrics import accuracy_score\r\n",
        "from sklearn.metrics import classification_report"
      ],
      "execution_count": null,
      "outputs": []
    },
    {
      "cell_type": "code",
      "metadata": {
        "colab": {
          "base_uri": "https://localhost:8080/"
        },
        "id": "qUvNgxLg127u",
        "outputId": "2b45febe-98c8-45a1-86dd-aa4d0d4baacb"
      },
      "source": [
        "print('accuracy is :', accuracy_score(y_test,y_pred))\r\n",
        "print(classification_report(y_test,y_pred))"
      ],
      "execution_count": null,
      "outputs": [
        {
          "output_type": "stream",
          "text": [
            "accuracy is : 1.0\n",
            "                 precision    recall  f1-score   support\n",
            "\n",
            "    Iris-setosa       1.00      1.00      1.00        13\n",
            "Iris-versicolor       1.00      1.00      1.00        16\n",
            " Iris-virginica       1.00      1.00      1.00         9\n",
            "\n",
            "       accuracy                           1.00        38\n",
            "      macro avg       1.00      1.00      1.00        38\n",
            "   weighted avg       1.00      1.00      1.00        38\n",
            "\n"
          ],
          "name": "stdout"
        }
      ]
    },
    {
      "cell_type": "code",
      "metadata": {
        "colab": {
          "base_uri": "https://localhost:8080/"
        },
        "id": "0nnXCwSf6bQN",
        "outputId": "5f17de83-a50b-4b74-9ac0-4f06051dbcb5"
      },
      "source": [
        "from sklearn.naive_bayes import GaussianNB\r\n",
        "classifier = GaussianNB()\r\n",
        "classifier.fit(X_train, y_train)\r\n",
        "y_pred = classifier.predict(X_test)\r\n",
        "print('accuracy is :', accuracy_score(y_test,y_pred))\r\n",
        "print(classification_report(y_test,y_pred))"
      ],
      "execution_count": null,
      "outputs": [
        {
          "output_type": "stream",
          "text": [
            "accuracy is : 1.0\n",
            "                 precision    recall  f1-score   support\n",
            "\n",
            "    Iris-setosa       1.00      1.00      1.00        13\n",
            "Iris-versicolor       1.00      1.00      1.00        16\n",
            " Iris-virginica       1.00      1.00      1.00         9\n",
            "\n",
            "       accuracy                           1.00        38\n",
            "      macro avg       1.00      1.00      1.00        38\n",
            "   weighted avg       1.00      1.00      1.00        38\n",
            "\n"
          ],
          "name": "stdout"
        }
      ]
    }
  ]
}